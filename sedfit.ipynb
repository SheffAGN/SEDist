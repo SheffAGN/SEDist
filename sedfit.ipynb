{
 "cells": [
  {
   "cell_type": "code",
   "execution_count": 72,
   "metadata": {},
   "outputs": [],
   "source": [
    "import numpy as np\n",
    "#from astropy import units as u\n",
    "%matplotlib inline\n",
    "import matplotlib.pyplot as plt\n",
    "#from astropy.analytic_functions import \\\n",
    "#                blackbody_nu as bb_nu\n",
    "from astropy import constants as const\n",
    "\n",
    "\n",
    "class galsed():\n",
    "    \n",
    "    #Speed of light in um/s:\n",
    "    c = 1e6*(const.c).value\n",
    "    h = (const.h).value\n",
    "    kb = (const.k_B).value\n",
    "    \n",
    "    def __init__(self, \\\n",
    "                 norm=1., temp=25., beta=1.5, \\\n",
    "                 plnorm=0.5, alpha=2., turnover=50., \\\n",
    "                 pah=0.1):\n",
    "        \n",
    "        #Set the wavelength array; can be changed with setwav():    \n",
    "        self.wav = np.logspace(np.log10(5),np.log10(1000),1024)\n",
    "        self.nu = self.c/self.wav\n",
    "        \n",
    "        #Set default BB properties; can be changed with setbb():    \n",
    "        self.bb_norm = norm    \n",
    "        self.bb_temp = temp\n",
    "        self.beta = beta\n",
    "        \n",
    "        #Set default PL properties; can be changed with setpl:\n",
    "        self.relnorm = plnorm\n",
    "        self.alpha = alpha\n",
    "        self.tp = turnover\n",
    "        \n",
    "        #Set default PAH norm (as fraction of LIR?):\n",
    "        #read in the PAH template and interpolate.\n",
    "        self.pahnorm = pah\n",
    "        self.pwav, self.pflux = np.loadtxt('M11_SEDs/avg_pah.dat', \\\n",
    "                                 comments='#', \\\n",
    "                                 unpack=True)  \n",
    "        self.pah = np.interp(self.wav,self.pwav,self.pflux,\\\n",
    "                             left=0.,right=0.)\n",
    "                                                        \n",
    "    def setwav(self, wav):\n",
    "        #(Re)Define the wavelength array (in microns):    \n",
    "        self.wav = wav\n",
    "        self.nu = self.c/self.wav\n",
    "        self.pah = np.interp(self.wav,self.pwav,self.pflux,\\\n",
    "                             left=0.,right=0.)    \n",
    "        \n",
    "    def setbb(self, norm=1., temp=25., beta=1.5):\n",
    "        #(Re)Define the Blackbody parameters:\n",
    "        self.bb_norm = norm\n",
    "        self.bb_temp = temp\n",
    "        self.beta = beta\n",
    "\n",
    "    def setpl(self, plnorm=0.5, alpha=2., turnover=50.):\n",
    "        #(Re)Define the Blackbody parameters:\n",
    "        self.relnorm = plnorm\n",
    "        self.alpha = alpha\n",
    "        self.tp = turnover\n",
    "        \n",
    "    def setpah(self, pahnorm=0.1):\n",
    "        self.pahnorm = pahnorm\n",
    "        \n",
    "    def getwav(self):\n",
    "        return self.wav\n",
    "    \n",
    "    def bb(self, wav, temp):\n",
    "        \n",
    "        #Use own BB generator (ripped from astropy);\n",
    "        #astropy's is slow, largely due to checks.\n",
    "        nu = self.c/wav\n",
    "        log_boltz = self.h * nu / (self.kb * temp)\n",
    "        boltzm1 = np.expm1(log_boltz)\n",
    "        return (2.0 * self.h * nu ** 3 / \\\n",
    "                (self.c ** 2 * boltzm1))\n",
    "    \n",
    "    def getbb(self):\n",
    "        \n",
    "        #Get the modified BB spectrum:    \n",
    "        #Calculate normalisation:\n",
    "        wavpeak = 2.9e3/self.bb_temp\n",
    "        nupeak = self.c/wavpeak\n",
    "        norm = self.bb_norm/((nupeak**self.beta)*\\\n",
    "                       self.bb(wavpeak, self.bb_temp))\n",
    "        \n",
    "        bb = self.bb(self.wav, self.bb_temp)\n",
    "        return norm*bb*(self.nu**self.beta)\n",
    "        \n",
    "    def getpl(self):\n",
    "        \n",
    "        #Get PL spectrum:\n",
    "        norm = self.bb_norm*self.relnorm/\\\n",
    "            ((self.tp**self.alpha)*np.exp(-1.))\n",
    "        \n",
    "        return norm*(self.wav**self.alpha)*\\\n",
    "                             np.exp(-(self.wav/self.tp)**2.)\n",
    "    \n",
    "    def getpah(self):\n",
    "        return self.pahnorm*self.pah\n",
    "    \n",
    "    def getsed(self):\n",
    "        return self.getpl()+self.getbb()+self.getpah()"
   ]
  },
  {
   "cell_type": "code",
   "execution_count": 80,
   "metadata": {},
   "outputs": [
    {
     "data": {
      "image/png": "[encoded data removed]",
      "text/plain": [
       "<matplotlib.figure.Figure at 0x1137e6590>"
      ]
     },
     "metadata": {},
     "output_type": "display_data"
    }
   ],
   "source": [
    "a = galsed(alpha=2.5,turnover=90.)\n",
    "#for i in range(1000):\n",
    "#    a.getsed()\n",
    "#print 'done'\n",
    "#a.setpl(turnover=10)\n",
    "a.setbb(temp=15)\n",
    "a.setpah(0.5)\n",
    "plt.plot(a.getwav(), a.getsed())\n",
    "plt.axis([1,1000,1e-3,200])\n",
    "plt.xscale('log')\n",
    "plt.yscale('log')\n",
    "plt.show()\n"
   ]
  },
  {
   "cell_type": "code",
   "execution_count": null,
   "metadata": {
    "collapsed": true
   },
   "outputs": [],
   "source": []
  },
  {
   "cell_type": "code",
   "execution_count": null,
   "metadata": {
    "collapsed": true
   },
   "outputs": [],
   "source": []
  }
 ],
 "metadata": {
  "kernelspec": {
   "display_name": "Python 2",
   "language": "python",
   "name": "python2"
  },
  "language_info": {
   "codemirror_mode": {
    "name": "ipython",
    "version": 2
   },
   "file_extension": ".py",
   "mimetype": "text/x-python",
   "name": "python",
   "nbconvert_exporter": "python",
   "pygments_lexer": "ipython2",
   "version": "2.7.12"
  }
 },
 "nbformat": 4,
 "nbformat_minor": 2
}

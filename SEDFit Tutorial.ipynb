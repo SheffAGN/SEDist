{
 "cells": [
  {
   "cell_type": "code",
   "execution_count": 4,
   "metadata": {},
   "outputs": [
    {
     "data": {
      "text/plain": [
       "['',\n",
       " '/Users/Home/Library/Python/2.7/lib/python/site-packages/pyfits-3.3-py2.7-macosx-10.11-intel.egg',\n",
       " '/System/Library/Frameworks/Python.framework/Versions/2.7/lib/python27.zip',\n",
       " '/System/Library/Frameworks/Python.framework/Versions/2.7/lib/python2.7',\n",
       " '/System/Library/Frameworks/Python.framework/Versions/2.7/lib/python2.7/plat-darwin',\n",
       " '/System/Library/Frameworks/Python.framework/Versions/2.7/lib/python2.7/plat-mac',\n",
       " '/System/Library/Frameworks/Python.framework/Versions/2.7/lib/python2.7/plat-mac/lib-scriptpackages',\n",
       " '/System/Library/Frameworks/Python.framework/Versions/2.7/Extras/lib/python',\n",
       " '/System/Library/Frameworks/Python.framework/Versions/2.7/lib/python2.7/lib-tk',\n",
       " '/System/Library/Frameworks/Python.framework/Versions/2.7/lib/python2.7/lib-old',\n",
       " '/System/Library/Frameworks/Python.framework/Versions/2.7/lib/python2.7/lib-dynload',\n",
       " '/Users/Home/Library/Python/2.7/lib/python/site-packages',\n",
       " '/System/Library/Frameworks/Python.framework/Versions/2.7/Extras/lib/python/PyObjC',\n",
       " '/Library/Python/2.7/site-packages',\n",
       " '/Users/Home/Library/Python/2.7/lib/python/site-packages/IPython/extensions',\n",
       " '/Users/Home/.ipython']"
      ]
     },
     "execution_count": 4,
     "metadata": {},
     "output_type": "execute_result"
    }
   ],
   "source": [
    "import numpy as np\n",
    "import sys\n",
    "sys.path\n",
    "#from sedfit import source, photset"
   ]
  },
  {
   "cell_type": "markdown",
   "metadata": {},
   "source": [
    "Create a photometric set then add filters:"
   ]
  },
  {
   "cell_type": "code",
   "execution_count": 4,
   "metadata": {},
   "outputs": [
    {
     "ename": "NameError",
     "evalue": "name 'photset' is not defined",
     "output_type": "error",
     "traceback": [
      "\u001b[0;31m---------------------------------------------------------------------------\u001b[0m",
      "\u001b[0;31mNameError\u001b[0m                                 Traceback (most recent call last)",
      "\u001b[0;32m<ipython-input-4-87287f58e18a>\u001b[0m in \u001b[0;36m<module>\u001b[0;34m()\u001b[0m\n\u001b[0;32m----> 1\u001b[0;31m \u001b[0mpho\u001b[0m \u001b[0;34m=\u001b[0m \u001b[0mphotset\u001b[0m\u001b[0;34m(\u001b[0m\u001b[0;34m)\u001b[0m\u001b[0;34m\u001b[0m\u001b[0m\n\u001b[0m\u001b[1;32m      2\u001b[0m \u001b[0;34m\u001b[0m\u001b[0m\n\u001b[1;32m      3\u001b[0m \u001b[0mwav\u001b[0m\u001b[0;34m,\u001b[0m\u001b[0mtrans\u001b[0m \u001b[0;34m=\u001b[0m \u001b[0mnp\u001b[0m\u001b[0;34m.\u001b[0m\u001b[0mloadtxt\u001b[0m\u001b[0;34m(\u001b[0m\u001b[0;34m'./sedfit/Filters/PACS/PacsFilter_red.txt'\u001b[0m\u001b[0;34m,\u001b[0m                        \u001b[0munpack\u001b[0m\u001b[0;34m=\u001b[0m\u001b[0mTrue\u001b[0m\u001b[0;34m)\u001b[0m\u001b[0;34m\u001b[0m\u001b[0m\n\u001b[1;32m      4\u001b[0m \u001b[0mpho\u001b[0m\u001b[0;34m.\u001b[0m\u001b[0maddFilter\u001b[0m\u001b[0;34m(\u001b[0m\u001b[0;34m'P160'\u001b[0m\u001b[0;34m,\u001b[0m\u001b[0mwav\u001b[0m\u001b[0;34m,\u001b[0m\u001b[0mtrans\u001b[0m\u001b[0;34m)\u001b[0m\u001b[0;34m\u001b[0m\u001b[0m\n\u001b[1;32m      5\u001b[0m \u001b[0mwav\u001b[0m\u001b[0;34m,\u001b[0m\u001b[0mtrans\u001b[0m \u001b[0;34m=\u001b[0m \u001b[0mnp\u001b[0m\u001b[0;34m.\u001b[0m\u001b[0mloadtxt\u001b[0m\u001b[0;34m(\u001b[0m\u001b[0;34m'./sedfit/Filters/PACS/PacsFilter_blue.txt'\u001b[0m\u001b[0;34m,\u001b[0m                        \u001b[0munpack\u001b[0m\u001b[0;34m=\u001b[0m\u001b[0mTrue\u001b[0m\u001b[0;34m)\u001b[0m\u001b[0;34m\u001b[0m\u001b[0m\n",
      "\u001b[0;31mNameError\u001b[0m: name 'photset' is not defined"
     ]
    }
   ],
   "source": [
    "pho = photset()\n",
    "\n",
    "wav,trans = np.loadtxt('./sedfit/Filters/PACS/PacsFilter_red.txt', \\\n",
    "                       unpack=True)\n",
    "pho.addFilter('P160',wav,trans)\n",
    "wav,trans = np.loadtxt('./sedfit/Filters/PACS/PacsFilter_blue.txt', \\\n",
    "                       unpack=True)\n",
    "pho.addFilter('P070',wav,trans)\n",
    "wav,trans = np.loadtxt('./sedfit/Filters/PACS/PacsFilter_green.txt', \\\n",
    "                       unpack=True)\n",
    "pho.addFilter('P100',wav,trans)"
   ]
  },
  {
   "cell_type": "markdown",
   "metadata": {},
   "source": [
    "Create a source at [RA,Dec] = (0,0) and z=0.1"
   ]
  },
  {
   "cell_type": "code",
   "execution_count": 1,
   "metadata": {},
   "outputs": [
    {
     "ename": "NameError",
     "evalue": "name 'source' is not defined",
     "output_type": "error",
     "traceback": [
      "\u001b[0;31m---------------------------------------------------------------------------\u001b[0m",
      "\u001b[0;31mNameError\u001b[0m                                 Traceback (most recent call last)",
      "\u001b[0;32m<ipython-input-1-7021e8887861>\u001b[0m in \u001b[0;36m<module>\u001b[0;34m()\u001b[0m\n\u001b[0;32m----> 1\u001b[0;31m \u001b[0msrc\u001b[0m \u001b[0;34m=\u001b[0m \u001b[0msource\u001b[0m\u001b[0;34m(\u001b[0m\u001b[0;36m0\u001b[0m\u001b[0;34m,\u001b[0m\u001b[0;36m0\u001b[0m\u001b[0;34m,\u001b[0m\u001b[0;36m0.5\u001b[0m\u001b[0;34m)\u001b[0m\u001b[0;34m\u001b[0m\u001b[0m\n\u001b[0m",
      "\u001b[0;31mNameError\u001b[0m: name 'source' is not defined"
     ]
    }
   ],
   "source": [
    "src = source(0,0,0.5)"
   ]
  },
  {
   "cell_type": "markdown",
   "metadata": {},
   "source": [
    "Pass source through photometric set to get the fluxes through that set:"
   ]
  },
  {
   "cell_type": "code",
   "execution_count": 29,
   "metadata": {
    "collapsed": true
   },
   "outputs": [],
   "source": [
    "flux = pho.getFlux(src)"
   ]
  },
  {
   "cell_type": "code",
   "execution_count": 30,
   "metadata": {},
   "outputs": [
    {
     "name": "stdout",
     "output_type": "stream",
     "text": [
      "['P070' 'P100' 'P160']\n",
      "[ 266.02433655  352.95569705  377.0326142 ]\n"
     ]
    }
   ],
   "source": [
    "ind = np.argsort(flux.keys())\n",
    "print np.array(flux.keys())[ind]\n",
    "print np.array(flux.values())[ind]"
   ]
  },
  {
   "cell_type": "code",
   "execution_count": null,
   "metadata": {
    "collapsed": true
   },
   "outputs": [],
   "source": []
  },
  {
   "cell_type": "code",
   "execution_count": null,
   "metadata": {
    "collapsed": true
   },
   "outputs": [],
   "source": []
  }
 ],
 "metadata": {
  "kernelspec": {
   "display_name": "Python 2",
   "language": "python",
   "name": "python2"
  },
  "language_info": {
   "codemirror_mode": {
    "name": "ipython",
    "version": 2
   },
   "file_extension": ".py",
   "mimetype": "text/x-python",
   "name": "python",
   "nbconvert_exporter": "python",
   "pygments_lexer": "ipython2",
   "version": "2.7.10"
  }
 },
 "nbformat": 4,
 "nbformat_minor": 2
}

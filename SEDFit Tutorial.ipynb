{
 "cells": [
  {
   "cell_type": "code",
   "execution_count": 24,
   "metadata": {
    "collapsed": true
   },
   "outputs": [],
   "source": [
    "import numpy as np\n",
    "from sedfit import source, photset"
   ]
  },
  {
   "cell_type": "markdown",
   "metadata": {},
   "source": [
    "Create a photometric set then add filters:"
   ]
  },
  {
   "cell_type": "code",
   "execution_count": 25,
   "metadata": {},
   "outputs": [],
   "source": [
    "pho = photset()\n",
    "\n",
    "wav,trans = np.loadtxt('./sedfit/Filters/PACS/PacsFilter_red.txt', \\\n",
    "                       unpack=True)\n",
    "pho.addFilter('P160',wav,trans)\n",
    "wav,trans = np.loadtxt('./sedfit/Filters/PACS/PacsFilter_blue.txt', \\\n",
    "                       unpack=True)\n",
    "pho.addFilter('P070',wav,trans)\n",
    "wav,trans = np.loadtxt('./sedfit/Filters/PACS/PacsFilter_green.txt', \\\n",
    "                       unpack=True)\n",
    "pho.addFilter('P100',wav,trans)"
   ]
  },
  {
   "cell_type": "markdown",
   "metadata": {},
   "source": [
    "Create a source at [RA,Dec] = (0,0) and z=0.1"
   ]
  },
  {
   "cell_type": "code",
   "execution_count": 26,
   "metadata": {},
   "outputs": [],
   "source": [
    "src = source(0,0,0.1)"
   ]
  },
  {
   "cell_type": "markdown",
   "metadata": {},
   "source": [
    "Pass source through photometric set to get the fluxes through that set:"
   ]
  },
  {
   "cell_type": "code",
   "execution_count": 29,
   "metadata": {},
   "outputs": [],
   "source": [
    "flux = pho.getFlux(src)"
   ]
  },
  {
   "cell_type": "code",
   "execution_count": 30,
   "metadata": {},
   "outputs": [
    {
     "name": "stdout",
     "output_type": "stream",
     "text": [
      "['P070' 'P100' 'P160']\n",
      "[ 266.02433655  352.95569705  377.0326142 ]\n"
     ]
    }
   ],
   "source": [
    "ind = np.argsort(flux.keys())\n",
    "print np.array(flux.keys())[ind]\n",
    "print np.array(flux.values())[ind]"
   ]
  },
  {
   "cell_type": "code",
   "execution_count": null,
   "metadata": {
    "collapsed": true
   },
   "outputs": [],
   "source": []
  },
  {
   "cell_type": "code",
   "execution_count": null,
   "metadata": {
    "collapsed": true
   },
   "outputs": [],
   "source": []
  }
 ],
 "metadata": {
  "kernelspec": {
   "display_name": "Python 2",
   "language": "python",
   "name": "python2"
  },
  "language_info": {
   "codemirror_mode": {
    "name": "ipython",
    "version": 2
   },
   "file_extension": ".py",
   "mimetype": "text/x-python",
   "name": "python",
   "nbconvert_exporter": "python",
   "pygments_lexer": "ipython2",
   "version": "2.7.13"
  }
 },
 "nbformat": 4,
 "nbformat_minor": 2
}
